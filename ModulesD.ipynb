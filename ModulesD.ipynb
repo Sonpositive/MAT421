{
  "nbformat": 4,
  "nbformat_minor": 0,
  "metadata": {
    "colab": {
      "provenance": [],
      "include_colab_link": true
    },
    "kernelspec": {
      "name": "python3",
      "display_name": "Python 3"
    },
    "language_info": {
      "name": "python"
    }
  },
  "cells": [
    {
      "cell_type": "markdown",
      "metadata": {
        "id": "view-in-github",
        "colab_type": "text"
      },
      "source": [
        "<a href=\"https://colab.research.google.com/github/Sonpositive/MAT421/blob/main/ModulesD.ipynb\" target=\"_parent\"><img src=\"https://colab.research.google.com/assets/colab-badge.svg\" alt=\"Open In Colab\"/></a>"
      ]
    },
    {
      "cell_type": "markdown",
      "source": [
        "**1.1 Linear Algebra Introduction**\n",
        "\n",
        "\n",
        "\n",
        "\n"
      ],
      "metadata": {
        "id": "16N6CDBDUC3D"
      }
    },
    {
      "cell_type": "markdown",
      "source": [
        "**1.2 Elements of Linear Algebra**\n",
        "\n",
        "1.2.1 Linear space\n",
        "\n",
        "**1.2.2.1 Linear combination**\n",
        "\n",
        "Linear combination: A linear combination in linear algebra is a new vecor constructed from a subset by multiplying each vector by a constant and adding the results. A linear subspace is a set of all possible result of linear combination.\n",
        "\n",
        "A = [1:1], B [1:2]\n",
        "\n",
        "new vector = 1*A + 1*B  = [2:3]\n"
      ],
      "metadata": {
        "id": "sMt4OH1NVALg"
      }
    },
    {
      "cell_type": "code",
      "source": [
        "import numpy as np\n",
        "import matplotlib.pyplot as plt\n",
        "\n",
        "# Define the matrix\n",
        "matrix = np.array([[1, 1], [1, 2]])\n",
        "\n",
        "# Extract vectors from the matrix\n",
        "vector1 = matrix[:, 0]  # First column as vector\n",
        "vector2 = matrix[:, 1]  # Second column as vector\n",
        "\n",
        "vector3 = vector1 + vector2\n",
        "# Plotting setup\n",
        "fig, ax = plt.subplots()\n",
        "\n",
        "ax.quiver(0, 0, vector1[0], vector1[1], angles='xy', scale_units='xy', scale=1, color='r', label='Vector 1')\n",
        "ax.quiver(vector1[0], vector1[1], vector2[0], vector2[1], angles='xy', scale_units='xy', scale=1, color='b', label='Vector 2')\n",
        "ax.quiver(0, 0, vector3[0], vector3[1], angles='xy', scale_units='xy', scale=1, color='g', label='new Vector')\n",
        "\n",
        "# Setting equal aspect ratio to ensure the scales are the same along both axes\n",
        "ax.set_aspect('equal')\n",
        "\n",
        "# Setting plot limits\n",
        "plt.xlim(-5, 5)\n",
        "plt.ylim(-5, 5)\n",
        "# Adding grid, labels, title, and legend for clarity\n",
        "plt.grid(True)\n",
        "plt.xlabel('X axis')\n",
        "plt.ylabel('Y axis')\n",
        "plt.title('Linear combination')\n",
        "plt.legend()\n",
        "\n",
        "# Display the plot\n",
        "plt.show()\n"
      ],
      "metadata": {
        "colab": {
          "base_uri": "https://localhost:8080/",
          "height": 472
        },
        "id": "1fT6MpWMWber",
        "outputId": "319349a5-c102-413c-b872-489e9d801681"
      },
      "execution_count": null,
      "outputs": [
        {
          "output_type": "display_data",
          "data": {
            "text/plain": [
              "<Figure size 640x480 with 1 Axes>"
            ],
            "image/png": "[encoded data removed]"
          },
          "metadata": {}
        }
      ]
    },
    {
      "cell_type": "markdown",
      "source": [
        "**1.2.1.2 Linear independence and dimension**\n",
        "\n",
        "Linear independence : a multiple vector are linearly independent if none of the vectors can be written in terms of the others.\n",
        "\n",
        "for linear independence this equation will require that all scalars eqaul zero.\n",
        "\n",
        "Dimension Theorem: the vector space has dimension n if a vector space has a basis with n elements"
      ],
      "metadata": {
        "id": "lEN2njpzYCdk"
      }
    },
    {
      "cell_type": "code",
      "source": [
        "# Define the matrix\n",
        "matrix2 = np.array([[1, 1], [1, -1]])\n",
        "\n",
        "# Extract vectors from the matrix\n",
        "vector1_2 = matrix2[:, 0]  # First column as vector\n",
        "vector2_2 = matrix2[:, 1]  # Second column as vector\n",
        "\n",
        "\n",
        "# Calculate the determinant of the matrix\n",
        "determinant = np.linalg.det(matrix2)\n",
        "\n",
        "# Check if the determinant is not zero (which would indicate linear independence)\n",
        "are_independent = determinant != 0\n",
        "\n",
        "determinant, are_independent\n",
        "\n",
        "print(\"is it true that they are independent?:\")\n",
        "are_matrices_equal\n",
        "\n"
      ],
      "metadata": {
        "colab": {
          "base_uri": "https://localhost:8080/"
        },
        "id": "ErNsvMKbabPO",
        "outputId": "7566f0da-351a-4869-f526-2df498a88f6e"
      },
      "execution_count": null,
      "outputs": [
        {
          "output_type": "stream",
          "name": "stdout",
          "text": [
            "is it true that they are independent?:\n"
          ]
        },
        {
          "output_type": "execute_result",
          "data": {
            "text/plain": [
              "True"
            ]
          },
          "metadata": {},
          "execution_count": 26
        }
      ]
    },
    {
      "cell_type": "markdown",
      "source": [
        "1.2.2 Orthogonality\n",
        "\n",
        "**1.2.2.1 Orhtonormal Bases**\n",
        "\n",
        "Orthonormal bases is the set of the basis vectors that  are perpendicuar to one another and have a one length.\n",
        "for an orthogonal matrix (O) its inverse(O^-1) is simply the sames as its transpose(O^T)\n",
        "\n",
        "\n",
        "\n",
        "\n"
      ],
      "metadata": {
        "id": "FAM_8JxAXRwW"
      }
    },
    {
      "cell_type": "code",
      "source": [
        "# Define the matrix\n",
        "matrix2 = np.array([[1/np.sqrt(2), 1/np.sqrt(2)], [1/np.sqrt(2), -1/np.sqrt(2)]])\n",
        "\n",
        "# Extract vectors from the matrix\n",
        "vector1_2 = matrix2[:, 0]  # First column as vector\n",
        "vector2_2 = matrix2[:, 1]  # Second column as vector\n",
        "\n",
        "# Plotting setup\n",
        "fig, ax = plt.subplots()\n",
        "\n",
        "ax.quiver(0, 0, vector1_2[0], vector1_2[1], angles='xy', scale_units='xy', scale=1, color='r', label='Vector 1')\n",
        "ax.quiver(0, 0, vector2_2[0], vector2_2[1], angles='xy', scale_units='xy', scale=1, color='b', label='Vector 2')\n",
        "\n",
        "# Setting equal aspect ratio to ensure the scales are the same along both axes\n",
        "ax.set_aspect('equal')\n",
        "\n",
        "# Setting plot limits\n",
        "plt.xlim(-5, 5)\n",
        "plt.ylim(-5, 5)\n",
        "# Adding grid, labels, title, and legend for clarity\n",
        "plt.grid(True)\n",
        "plt.xlabel('X axis')\n",
        "plt.ylabel('Y axis')\n",
        "plt.title('Linear combination')\n",
        "plt.legend()\n",
        "\n",
        "# Display the plot\n",
        "plt.show()\n",
        "\n",
        "\n",
        "transposed_matrix2 = matrix2.T\n",
        "inverse_matrix2 = np.linalg.inv(matrix2)\n",
        "\n",
        "# Compare the transpose and inverse of matrix2\n",
        "are_matrices_equal = np.allclose(transposed_matrix2, inverse_matrix2)\n",
        "\n",
        "print(\"is it true that an orthogonal matrix (O) its inverse(O^-1) is simply the sames as its transpose(O^T)?:\")\n",
        "are_matrices_equal\n",
        "\n"
      ],
      "metadata": {
        "colab": {
          "base_uri": "https://localhost:8080/",
          "height": 509
        },
        "id": "EVM1zCDmYMdc",
        "outputId": "b2c3f840-5f6e-4f39-c00e-b3fb04375c41"
      },
      "execution_count": null,
      "outputs": [
        {
          "output_type": "display_data",
          "data": {
            "text/plain": [
              "<Figure size 640x480 with 1 Axes>"
            ],
            "image/png": "[encoded data removed]"
          },
          "metadata": {}
        },
        {
          "output_type": "stream",
          "name": "stdout",
          "text": [
            "is it true that an orthogonal matrix (O) its inverse(O^-1) is simply the sames as its transpose(O^T):\n"
          ]
        },
        {
          "output_type": "execute_result",
          "data": {
            "text/plain": [
              "True"
            ]
          },
          "metadata": {},
          "execution_count": 23
        }
      ]
    },
    {
      "cell_type": "markdown",
      "source": [
        "**1.2.3 Gram-schmit Process**\n",
        "\n",
        "\n",
        "Gram-schmit Process is used to obtain an orthonomal basis from any set the forms a basis\n"
      ],
      "metadata": {
        "id": "ReIWKBBaX862"
      }
    },
    {
      "cell_type": "code",
      "source": [
        "import numpy as np\n",
        "\n",
        "def gram_schmidt(A):\n",
        "    \"\"\"Perform the Gram-Schmidt process on matrix A and return matrix with orthonormal columns.\"\"\"\n",
        "    Q = np.zeros(A.shape)\n",
        "    for i in range(A.shape[1]):\n",
        "        # Start with the i-th column of A\n",
        "        q = A[:, i]\n",
        "        # Subtract the projection of q onto each of the previous vectors\n",
        "        for j in range(i):\n",
        "            q = q - np.dot(Q[:, j], A[:, i]) * Q[:, j]\n",
        "        # Normalize the vector\n",
        "        Q[:, i] = q / np.linalg.norm(q)\n",
        "    return Q\n",
        "\n",
        "# Define a 2x2 matrix A for which we want to find the orthonormal basis\n",
        "A_2x2 = np.array([[1, 1], [1, -1]]).astype(float)\n",
        "\n",
        "# Apply Gram-Schmidt process to the 2x2 matrix A\n",
        "Q_2x2 = gram_schmidt(A_2x2)\n",
        "\n",
        "# The resulting orthonormal matrix Q_2x2 is outputted here\n",
        "print(\"Matrix Q:\")\n",
        "print(Q_2x2)\n",
        "\n",
        "transposed_Q_2x2 = Q_2x2.T\n",
        "inverse_Q_2x2 = np.linalg.inv(Q_2x2)\n",
        "\n",
        "# Compare the transpose and inverse of matrix2\n",
        "are_matrices_equal = np.allclose(transposed_Q_2x2, inverse_Q_2x2)\n",
        "\n",
        "print(\"is it true that an orthogonal matrix (Q) its inverse(Q^-1) is simply the sames as its transpose(Q^T)?:\")\n",
        "are_matrices_equal\n",
        "\n",
        "\n"
      ],
      "metadata": {
        "colab": {
          "base_uri": "https://localhost:8080/"
        },
        "id": "yhx8SjXCaL9n",
        "outputId": "8d9f987a-eb9e-4448-ef7a-85a3983f9be6"
      },
      "execution_count": null,
      "outputs": [
        {
          "output_type": "stream",
          "name": "stdout",
          "text": [
            "Matrix Q:\n",
            "[[ 0.70710678  0.70710678]\n",
            " [ 0.70710678 -0.70710678]]\n",
            "is it true that an orthogonal matrix (Q) its inverse(Q^-1) is simply the sames as its transpose(Q^T)?:\n"
          ]
        },
        {
          "output_type": "execute_result",
          "data": {
            "text/plain": [
              "True"
            ]
          },
          "metadata": {},
          "execution_count": 32
        }
      ]
    },
    {
      "cell_type": "markdown",
      "source": [
        "**1.2.4 Eigenvalues and Eigenvectors**\n",
        "\n",
        "  Let A be a square matrix in the real number system\n",
        "  Ax = λx\n",
        "\n",
        "  this x is Eigenvector\n",
        "  this λ is Eigenvalues\n",
        "\n",
        "  Eigenvectors: the vector is the vector than spans same space after linear transfomation\n",
        "\n",
        "  Eigenvalues: x\n",
        "\n",
        "\n",
        "  Compute the eigenvalues and eigenvectors for matrix A = [[-3,1],[-2,0]]\n",
        "\n",
        "  \n"
      ],
      "metadata": {
        "id": "SqT3AH4qX__t"
      }
    },
    {
      "cell_type": "code",
      "source": [
        "\n",
        "from numpy.linalg import eig\n",
        "\n",
        "a = np.array([[1,1],[4,1]])\n",
        "\n",
        "w,v=eig(a)\n",
        "\n",
        "print('E-value:', w)\n",
        "print('E-vector', v)\n"
      ],
      "metadata": {
        "colab": {
          "base_uri": "https://localhost:8080/"
        },
        "id": "0sBHRkxVaMAr",
        "outputId": "20afdc5f-ad7b-4db3-de66-1d3f98291058"
      },
      "execution_count": null,
      "outputs": [
        {
          "output_type": "stream",
          "name": "stdout",
          "text": [
            "E-value: [ 3. -1.]\n",
            "E-vector [[ 0.4472136  -0.4472136 ]\n",
            " [ 0.89442719  0.89442719]]\n"
          ]
        }
      ]
    },
    {
      "cell_type": "markdown",
      "source": [
        "**1.2.4.1 Diagonalization of Symmetric Matries**\n",
        "\n",
        "  diagonalization involves taking a matrix and writubg it as a product of matrices\n",
        "  Let A be similar to a matrix D with the distinct diagonal entries, that exists a non-singular matric A such that A = XDX^-1\n",
        "\n",
        "  if A is symmetric, then any 2 eigenvectors from different eigenspaces are otrhogonal"
      ],
      "metadata": {
        "id": "qo93ibRpjM-m"
      }
    },
    {
      "cell_type": "code",
      "source": [
        "import numpy as np\n",
        "\n",
        "# Define the matrix A\n",
        "A_new = np.array([[-3, -4], [5, 6]])\n",
        "\n",
        "# Find the eigenvalues and eigenvectors of the new A\n",
        "eigenvalues_new, eigenvectors_new = np.linalg.eig(A_new)\n",
        "\n",
        "# The matrix of eigenvectors, P, diagonalizes A into the matrix D (diagonal matrix of eigenvalues)\n",
        "P_new = eigenvectors_new\n",
        "D_new = np.diag(eigenvalues_new)\n",
        "P_inv_new = np.linalg.inv(P_new)\n",
        "\n",
        "# Verify the diagonalization: A should equal PDP_inv\n",
        "A_reconstructed_new = P_new @ D_new @ P_inv_new\n",
        "\n",
        "# Output the eigenvalues, eigenvectors, diagonal matrix D, and the reconstructed A\n",
        "print(\"Eigenvalues:\", eigenvalues_new)\n",
        "print(\"Eigenvectors:\\n\", eigenvectors_new)\n",
        "print(\"Diagonal matrix D:\\n\", D_new)\n",
        "print(\"Reconstructed matrix A:\\n\", A_reconstructed_new)\n"
      ],
      "metadata": {
        "colab": {
          "base_uri": "https://localhost:8080/"
        },
        "id": "JF7uDN_hlYcJ",
        "outputId": "7413aa46-d7ad-4b23-f5c4-82832e5b3dd6"
      },
      "execution_count": null,
      "outputs": [
        {
          "output_type": "stream",
          "name": "stdout",
          "text": [
            "Eigenvalues: [1. 2.]\n",
            "Eigenvectors:\n",
            " [[-0.70710678  0.62469505]\n",
            " [ 0.70710678 -0.78086881]]\n",
            "Diagonal matrix D:\n",
            " [[1. 0.]\n",
            " [0. 2.]]\n",
            "Reconstructed matrix A:\n",
            " [[-3. -4.]\n",
            " [ 5.  6.]]\n"
          ]
        }
      ]
    },
    {
      "cell_type": "markdown",
      "source": [
        "**1.3 Linear Regression**\n",
        "\n",
        "\n",
        "1.3.1 QR Decompostion\n",
        "\n",
        "a QR decomposition  is a decomposition of a matrix A into a product A=QR of an orthonormal matrix Q and an upper triangular matrix  R. QR decomposition is often used to solve the linear least squares (LLS) problem and is the basis for a particular Eigenvalue algorithm, the QR algorithm\n",
        "\n",
        "1.3.2 Least-squares Problems\n",
        "\n",
        "In such cases, the goal of the least-squares method is to find an approximate solution that minimizes the sum of the squares of the residuals. The residual for each equation is the difference between the left-hand side and the right-hand side of the equation\n",
        "\n",
        "\n"
      ],
      "metadata": {
        "id": "U9E59XzQYKsm"
      }
    },
    {
      "cell_type": "markdown",
      "source": [
        "1.3.3 Linear Regression\n",
        "\n",
        "\n",
        "Linear regression using the least-squares method is a statistical technique used to model and analyze the relationships between a dependent variable and one or more independent variables. The goal is to find the linear equation that best predicts the dependent variable from the independent variables.\n"
      ],
      "metadata": {
        "id": "_YFCkT9inC81"
      }
    },
    {
      "cell_type": "code",
      "source": [
        "import numpy as np\n",
        "import matplotlib.pyplot as plt\n",
        "\n",
        "# Given data points\n",
        "year = np.array([1981, 1984, 1984, 1985, 1990, 1991, 1991, 1991, 1992, 1992,\n",
        "                 1993, 1994, 1998, 1999, 1999, 2000, 2001, 2002, 2002, 2003,\n",
        "                 2005, 2005, 2005, 2006, 2006, 2008, 2009, 2010, 2012, 2017])\n",
        "conc = np.array([339.99, 343.98, 343.98, 345.46, 353.97, 355.29, 355.29, 355.29,\n",
        "                 355.99, 355.99, 356.71, 358.2, 365.55, 367.63, 367.63, 368.81,\n",
        "                 370.41, 372.41, 372.41, 374.96, 378.81, 378.81, 378.81, 380.93,\n",
        "                 380.93, 384.78, 386.28, 388.56, 392.45, 404.99])\n",
        "\n",
        "# Create the design matrix X with a column of ones and the year values\n",
        "X = np.column_stack((np.ones(year.shape), year))\n",
        "\n",
        "# Perform the least squares regression using np.linalg.lstsq which is more stable\n",
        "c, residuals, rank, s = np.linalg.lstsq(X, conc, rcond=None)\n",
        "\n",
        "# Plot the original data points\n",
        "plt.plot(year, conc, 'o', label='Data Points')\n",
        "\n",
        "# Generate the fit line using the coefficients from the linear regression\n",
        "fit = c[0] + c[1] * year\n",
        "\n",
        "# Plot the fit line\n",
        "plt.plot(year, fit, 'k', label='Linear Fit', linewidth=2)\n",
        "\n",
        "# Set plot labels and title\n",
        "plt.xlabel('Year')\n",
        "plt.ylabel('CO2 Concentration (ppm)')\n",
        "plt.title('Linear Fit of CO2 Concentration Over Time')\n",
        "\n",
        "# Add a legend\n",
        "plt.legend()\n",
        "\n",
        "# Ensure the plot axes are tight around the data\n",
        "plt.axis('tight')\n",
        "\n",
        "# Show the plot\n",
        "plt.show()\n"
      ],
      "metadata": {
        "colab": {
          "base_uri": "https://localhost:8080/",
          "height": 472
        },
        "id": "HYk9z_qxr3mX",
        "outputId": "7c0c6571-b291-4c63-b1bc-23b867312e5b"
      },
      "execution_count": null,
      "outputs": [
        {
          "output_type": "display_data",
          "data": {
            "text/plain": [
              "<Figure size 640x480 with 1 Axes>"
            ],
            "image/png": "[encoded data removed]"
          },
          "metadata": {}
        }
      ]
    }
  ]
}