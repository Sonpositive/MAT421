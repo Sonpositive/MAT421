{
  "nbformat": 4,
  "nbformat_minor": 0,
  "metadata": {
    "colab": {
      "provenance": [],
      "authorship_tag": "ABX9TyMcxuRwaAnkAQa0QjFuYiSV",
      "include_colab_link": true
    },
    "kernelspec": {
      "name": "python3",
      "display_name": "Python 3"
    },
    "language_info": {
      "name": "python"
    }
  },
  "cells": [
    {
      "cell_type": "markdown",
      "metadata": {
        "id": "view-in-github",
        "colab_type": "text"
      },
      "source": [
        "<a href=\"https://colab.research.google.com/github/Sonpositive/MAT421/blob/main/MAT421_moduleC.ipynb\" target=\"_parent\"><img src=\"https://colab.research.google.com/assets/colab-badge.svg\" alt=\"Open In Colab\"/></a>"
      ]
    },
    {
      "cell_type": "markdown",
      "source": [
        "19.1 Root Finding Problem Statement\n",
        "\n",
        "Python has the existing root-finding functions for us to use to find root\n",
        "\n",
        "Using fsolve function from scipy to compute the root of f(x) = cos(x)-2x near 3 and f(x) = x*x+2near 8."
      ],
      "metadata": {
        "id": "hhkKeDkEOLud"
      }
    },
    {
      "cell_type": "code",
      "source": [
        "import numpy as np\n",
        "from scipy import optimize\n",
        "\n",
        "f = lambda x: np.cos(x)-2*x\n",
        "\n",
        "r, infodict, ier, mesg = optimize.fsolve(f,10, full_output=True)\n",
        "print(\"r=\", r)\n",
        "\n",
        "\n",
        "result = f(r)\n",
        "\n",
        "print(\"result=\", result)\n",
        "\n",
        "print(mesg)"
      ],
      "metadata": {
        "colab": {
          "base_uri": "https://localhost:8080/"
        },
        "id": "HlEf0FIHNWm0",
        "outputId": "9d44ef7b-4315-4173-ddf3-d6d6f02b088c"
      },
      "execution_count": null,
      "outputs": [
        {
          "output_type": "stream",
          "name": "stdout",
          "text": [
            "r= [0.45018361]\n",
            "result= [1.66533454e-15]\n",
            "The solution converged.\n"
          ]
        }
      ]
    },
    {
      "cell_type": "code",
      "source": [
        "import numpy as np\n",
        "from scipy import optimize\n",
        "\n",
        "f = lambda x: x*x+.01\n",
        "\n",
        "r, infodict, ier, mesg = optimize.fsolve(f,8, full_output=True)\n",
        "print(\"r=\", r)\n",
        "\n",
        "\n",
        "result = f(r)\n",
        "\n",
        "print(\"result=\", result)\n",
        "\n",
        "print(mesg)"
      ],
      "metadata": {
        "colab": {
          "base_uri": "https://localhost:8080/"
        },
        "id": "tg7-6jb4QRPQ",
        "outputId": "a3e01ad5-efe4-4c5e-fda0-43e428c3f1ed"
      },
      "execution_count": null,
      "outputs": [
        {
          "output_type": "stream",
          "name": "stdout",
          "text": [
            "r= [1.34426896e-05]\n",
            "result= [0.01]\n",
            "The iteration is not making good progress, as measured by the \n",
            "  improvement from the last ten iterations.\n"
          ]
        }
      ]
    },
    {
      "cell_type": "markdown",
      "source": [
        "19.2 Tolerance\n",
        "\n",
        "Tolerance is the level of error that is acceptable for an engineering application. We say that a computer program has converged to a solution when it has found a solution with an error smaller than the tolerance.\n",
        "*italicized text*"
      ],
      "metadata": {
        "id": "9PZZLDaEQ9CA"
      }
    },
    {
      "cell_type": "code",
      "source": [
        "#same example as before. with no root\n",
        "import numpy as np\n",
        "from scipy import optimize\n",
        "\n",
        "f = lambda x: x*x+.01\n",
        "\n",
        "\n",
        "r, infodict, ier, mesg = optimize.fsolve(f,8, xtol=1 , full_output=True)\n",
        "print(\"r=\", r)\n",
        "\n",
        "\n",
        "result = f(r)\n",
        "\n",
        "print(\"result=\", result)\n",
        "\n",
        "print(mesg)"
      ],
      "metadata": {
        "colab": {
          "base_uri": "https://localhost:8080/"
        },
        "id": "8zMSlWMLSLIl",
        "outputId": "9a491d93-f236-4b97-c1a6-ef2142125fc6"
      },
      "execution_count": null,
      "outputs": [
        {
          "output_type": "stream",
          "name": "stdout",
          "text": [
            "r= [1.34426896e-05]\n",
            "result= [0.01]\n",
            "The iteration is not making good progress, as measured by the \n",
            "  improvement from the last ten iterations.\n"
          ]
        }
      ]
    },
    {
      "cell_type": "markdown",
      "source": [
        "19.3 Bisection\n",
        "The bisection method uses the intermediate value theorem iteratively to find roots.\n",
        "\n"
      ],
      "metadata": {
        "id": "CISbmRByUabn"
      }
    },
    {
      "cell_type": "code",
      "source": [
        "\n",
        "\n",
        "import numpy as np\n",
        "\n",
        "def my_bisection(f, a, b, tol):\n",
        "    # approximates a root, R, of f bounded\n",
        "    # by a and b to within tolerance\n",
        "    # | f(m) | < tol with m the midpoint\n",
        "    # between a and b Recursive implementation\n",
        "\n",
        "    # check if a and b bound a root\n",
        "    if np.sign(f(a)) == np.sign(f(b)):\n",
        "        raise Exception(\"The scalars a and b do not bound a root\")\n",
        "\n",
        "    # get midpoint\n",
        "    m = (a + b)/2\n",
        "\n",
        "    if np.abs(f(m)) < tol:\n",
        "        # stopping condition, report m as root\n",
        "        return m\n",
        "    elif np.sign(f(a)) == np.sign(f(m)):\n",
        "        # case where m is an improvement on a.\n",
        "        # Make recursive call with a = m\n",
        "        return my_bisection(f, m, b, tol)\n",
        "    elif np.sign(f(b)) == np.sign(f(m)):\n",
        "        # case where m is an improvement on b.\n",
        "        # Make recursive call with b = m\n",
        "        return my_bisection(f, a, m, tol)\n",
        "\n",
        "\n",
        "f = lambda x: np.cos(x)*np.tan(x/2) + .5\n",
        "\n",
        "r1 = my_bisection(f, 0, 2, 0.1)\n",
        "print(\"r1 =\", r1)\n",
        "r01 = my_bisection(f, 0, 2, 0.01)\n",
        "print(\"r01 =\", r01)\n",
        "\n",
        "r02 = my_bisection(f, 0, 2, 0.001)\n",
        "print(\"r01 =\", r02)\n",
        "\n",
        "print(\"f(r1) =\", f(r1))\n",
        "print(\"f(r01) =\", f(r01))\n",
        "print(\"f(r02) =\", f(r02))"
      ],
      "metadata": {
        "colab": {
          "base_uri": "https://localhost:8080/"
        },
        "id": "jD2_OxylVZ38",
        "outputId": "08f0d6f7-6d5e-4992-acbd-cb3b9124e1e7"
      },
      "execution_count": null,
      "outputs": [
        {
          "output_type": "stream",
          "name": "stdout",
          "text": [
            "r1 = 1.875\n",
            "r01 = 1.921875\n",
            "r01 = 1.92578125\n",
            "f(r1) = 0.09201380523346558\n",
            "f(r01) = 0.007790785914757126\n",
            "f(r02) = 0.00046968561079663296\n"
          ]
        }
      ]
    },
    {
      "cell_type": "code",
      "source": [
        "f = lambda x: np.cos(x)-2*x\n",
        "\n",
        "r1 = my_bisection(f, 0, 2, 0.1)\n",
        "print(\"r1 =\", r1)\n",
        "r01 = my_bisection(f, 0, 2, 0.01)\n",
        "print(\"r01 =\", r01)\n",
        "\n",
        "print(\"f(r1) =\", f(r1))\n",
        "print(\"f(r01) =\", f(r01))\n"
      ],
      "metadata": {
        "colab": {
          "base_uri": "https://localhost:8080/"
        },
        "id": "HVmb_EMtWtIA",
        "outputId": "62c26102-86bd-41ff-8e5f-d19327b7b8ad"
      },
      "execution_count": null,
      "outputs": [
        {
          "output_type": "stream",
          "name": "stdout",
          "text": [
            "r1 = 0.4375\n",
            "r01 = 0.453125\n",
            "f(r1) = 0.030813683425936378\n",
            "f(r01) = -0.007166559439861553\n"
          ]
        }
      ]
    },
    {
      "cell_type": "markdown",
      "source": [
        "19.4 Newton-Raphson Method\n",
        "\n",
        "\n",
        "Following are two ways to apply Newton-Raphson method to calculate the value compared to the root.\n",
        "\n",
        "  the sqrt(3) is the root of the function f(x) x^2 - 3. Using = 1.73 as a starting point, use the equation sqrt(3) to estimate. Then compared the value to the sqrt function\n",
        "\n",
        "Write a function newton(f, df, x0, tol), where the output is an estimation of the root of f, f is a function object f(x), df is a function object to f'(x), x0 is an initial guess, and tol is the error tolerance. The error measurement should be |f(x)|. Use my_newton= to compute sqrt(2) to within tolerance of 1e-6 starting at x0 = 1.5 .\n",
        "\n"
      ],
      "metadata": {
        "id": "OosFlNvcYFQ1"
      }
    },
    {
      "cell_type": "code",
      "source": [
        "import numpy as np\n",
        "\n",
        "def my_newton(f, df, x0, tol):\n",
        "    if abs(f(x0)) < tol:\n",
        "        return x0\n",
        "    else:\n",
        "        return my_newton(f, df, x0 - f(x0)/df(x0), tol)\n",
        "\n",
        "f = lambda x: x**2 - 3\n",
        "f_prime = lambda x: 2*x\n",
        "newton_raphson = 1.73 - (f(1.73))/(f_prime(1.73))\n",
        "\n",
        "print(\"newton_raphson =\", newton_raphson)\n",
        "print(\"sqrt(3) =\", np.sqrt(3))\n",
        "\n",
        "print(\"\")\n",
        "\n",
        "\n",
        "estimate = my_newton(f, f_prime, 1.8, 1e-6)\n",
        "print(\"estimate =\", estimate)\n",
        "print(\"sqrt(3) =\", np.sqrt(3))"
      ],
      "metadata": {
        "colab": {
          "base_uri": "https://localhost:8080/"
        },
        "id": "9cV-F3tIcUU0",
        "outputId": "6d7554b8-1af5-4d24-adcb-2e913eaf05f4"
      },
      "execution_count": null,
      "outputs": [
        {
          "output_type": "stream",
          "name": "stdout",
          "text": [
            "newton_raphson = 1.7320520231213872\n",
            "sqrt(3) = 1.7320508075688772\n",
            "\n",
            "estimate = 1.7320508075689423\n",
            "sqrt(3) = 1.7320508075688772\n"
          ]
        }
      ]
    }
  ]
}