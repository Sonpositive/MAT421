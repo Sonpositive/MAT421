{
  "nbformat": 4,
  "nbformat_minor": 0,
  "metadata": {
    "colab": {
      "provenance": [],
      "authorship_tag": "ABX9TyPLFDwq1B45qoDyhDjzPj3N",
      "include_colab_link": true
    },
    "kernelspec": {
      "name": "python3",
      "display_name": "Python 3"
    },
    "language_info": {
      "name": "python"
    }
  },
  "cells": [
    {
      "cell_type": "markdown",
      "metadata": {
        "id": "view-in-github",
        "colab_type": "text"
      },
      "source": [
        "<a href=\"https://colab.research.google.com/github/Sonpositive/MAT421/blob/main/ModulesE.ipynb\" target=\"_parent\"><img src=\"https://colab.research.google.com/assets/colab-badge.svg\" alt=\"Open In Colab\"/></a>"
      ]
    },
    {
      "cell_type": "markdown",
      "source": [
        "3.2. Continunity and Differentiation\n"
      ],
      "metadata": {
        "id": "OR5151ARWgVF"
      }
    },
    {
      "cell_type": "code",
      "execution_count": 2,
      "metadata": {
        "id": "Jxkpvpx1WJUi"
      },
      "outputs": [],
      "source": [
        "import sympy\n",
        "import numpy as np\n",
        "from sympy.plotting import plot"
      ]
    },
    {
      "cell_type": "code",
      "source": [
        "x = sympy.Symbol('x')\n",
        "\n",
        "for i in np.linspace(0,1,10):\n",
        "  print(\"Exponent denomiatror %.2f give limit of \"%(i) +str(sympy.limit(1/x**i,x,0)))\n"
      ],
      "metadata": {
        "colab": {
          "base_uri": "https://localhost:8080/"
        },
        "id": "LncuQ0mmntir",
        "outputId": "defd6fc5-99f4-42f2-d70d-ca01e8f1b6fa"
      },
      "execution_count": 30,
      "outputs": [
        {
          "output_type": "stream",
          "name": "stdout",
          "text": [
            "Exponent denomiatror 0.00 give limit of 1\n",
            "Exponent denomiatror 0.11 give limit of oo\n",
            "Exponent denomiatror 0.22 give limit of oo\n",
            "Exponent denomiatror 0.33 give limit of oo\n",
            "Exponent denomiatror 0.44 give limit of oo\n",
            "Exponent denomiatror 0.56 give limit of oo\n",
            "Exponent denomiatror 0.67 give limit of oo\n",
            "Exponent denomiatror 0.78 give limit of oo\n",
            "Exponent denomiatror 0.89 give limit of oo\n",
            "Exponent denomiatror 1.00 give limit of oo\n"
          ]
        }
      ]
    },
    {
      "cell_type": "code",
      "source": [
        "import sympy\n",
        "\n",
        "# Step 1: Define the symbolic variable\n",
        "x = sympy.Symbol('x')\n",
        "\n",
        "# Step 2: Define the function f(x)\n",
        "f = 3 * x\n",
        "\n",
        "# Step 3: Calculate the limit of f(x) as x approaches 1\n",
        "limit = sympy.limit(f, x, 1)\n",
        "\n",
        "# Step 4: Define the known value of y\n",
        "y = 3\n",
        "\n",
        "# Step 5: Compare y and the limit\n",
        "are_equal = y == limit\n",
        "\n",
        "# Print the result\n",
        "print(f\"The limit of the function as x approaches 1 is: {limit}\")\n",
        "print(f\"The known value of y is: {y}\")\n",
        "print(f\"Do they equal each other? {are_equal}\")\n",
        "\n"
      ],
      "metadata": {
        "colab": {
          "base_uri": "https://localhost:8080/"
        },
        "id": "zbF13UGpo2Af",
        "outputId": "1dc63b8d-37d7-4ef6-81f6-3c31e409f69f"
      },
      "execution_count": 4,
      "outputs": [
        {
          "output_type": "stream",
          "name": "stdout",
          "text": [
            "The limit of the function as x approaches 1 is: 3\n",
            "The known value of y is: 3\n",
            "Do they equal each other? True\n"
          ]
        }
      ]
    },
    {
      "cell_type": "code",
      "source": [
        "from sympy import *\n",
        "\n",
        "x = sympy.Symbol('x')\n",
        "\n",
        "display(diff(sin(x),x))\n",
        "\n",
        "integrate(cos(x),x)\n",
        "\n"
      ],
      "metadata": {
        "colab": {
          "base_uri": "https://localhost:8080/",
          "height": 59
        },
        "id": "CD0cKuBmq0Le",
        "outputId": "142184ae-2001-4878-8ea1-a1af3f296d0b"
      },
      "execution_count": 5,
      "outputs": [
        {
          "output_type": "display_data",
          "data": {
            "text/plain": [
              "cos(x)"
            ],
            "text/latex": "$\\displaystyle \\cos{\\left(x \\right)}$"
          },
          "metadata": {}
        },
        {
          "output_type": "execute_result",
          "data": {
            "text/plain": [
              "sin(x)"
            ],
            "text/latex": "$\\displaystyle \\sin{\\left(x \\right)}$"
          },
          "metadata": {},
          "execution_count": 5
        }
      ]
    },
    {
      "cell_type": "code",
      "source": [
        "f = exp(x)\n",
        "g = cos(f)\n",
        "\n",
        "print(\"Composition function\")\n",
        "\n",
        "display(g)\n",
        "\n",
        "print(\"Diff of composition function\")\n",
        "deq = diff(g,x)\n",
        "\n",
        "display(deq)\n",
        "\n",
        "print(\"integration of composition function\")\n",
        "\n",
        "ieq = integrate(deq,x)\n",
        "\n",
        "display(ieq)"
      ],
      "metadata": {
        "colab": {
          "base_uri": "https://localhost:8080/",
          "height": 131
        },
        "id": "ek7u3Bz0v71L",
        "outputId": "d511d3b9-f9d2-4bce-8957-5eaff641568d"
      },
      "execution_count": 6,
      "outputs": [
        {
          "output_type": "stream",
          "name": "stdout",
          "text": [
            "Composition function\n"
          ]
        },
        {
          "output_type": "display_data",
          "data": {
            "text/plain": [
              "cos(exp(x))"
            ],
            "text/latex": "$\\displaystyle \\cos{\\left(e^{x} \\right)}$"
          },
          "metadata": {}
        },
        {
          "output_type": "stream",
          "name": "stdout",
          "text": [
            "Diff of composition function\n"
          ]
        },
        {
          "output_type": "display_data",
          "data": {
            "text/plain": [
              "-exp(x)*sin(exp(x))"
            ],
            "text/latex": "$\\displaystyle - e^{x} \\sin{\\left(e^{x} \\right)}$"
          },
          "metadata": {}
        },
        {
          "output_type": "stream",
          "name": "stdout",
          "text": [
            "integration of composition function\n"
          ]
        },
        {
          "output_type": "display_data",
          "data": {
            "text/plain": [
              "cos(exp(x))"
            ],
            "text/latex": "$\\displaystyle \\cos{\\left(e^{x} \\right)}$"
          },
          "metadata": {}
        }
      ]
    },
    {
      "cell_type": "code",
      "source": [
        "g = sin(x)\n",
        "\n",
        "talyorExpand = g.series(x, 1, 5).removeO()\n",
        "\n",
        "display(talyorExpand)"
      ],
      "metadata": {
        "id": "GAvwIknyxCK8",
        "colab": {
          "base_uri": "https://localhost:8080/",
          "height": 56
        },
        "outputId": "6a01f504-bf3a-462d-9886-35a2ae7d5120"
      },
      "execution_count": 12,
      "outputs": [
        {
          "output_type": "display_data",
          "data": {
            "text/plain": [
              "(x - 1)**4*sin(1)/24 - (x - 1)**3*cos(1)/6 - (x - 1)**2*sin(1)/2 + (x - 1)*cos(1) + sin(1)"
            ],
            "text/latex": "$\\displaystyle \\frac{\\left(x - 1\\right)^{4} \\sin{\\left(1 \\right)}}{24} - \\frac{\\left(x - 1\\right)^{3} \\cos{\\left(1 \\right)}}{6} - \\frac{\\left(x - 1\\right)^{2} \\sin{\\left(1 \\right)}}{2} + \\left(x - 1\\right) \\cos{\\left(1 \\right)} + \\sin{\\left(1 \\right)}$"
          },
          "metadata": {}
        }
      ]
    },
    {
      "cell_type": "markdown",
      "source": [
        "3.3 Unconstrained Optimization\n",
        "\n"
      ],
      "metadata": {
        "id": "zaBJycASb3d-"
      }
    },
    {
      "cell_type": "code",
      "source": [
        "\n",
        "\n",
        "from scipy.optimize import minimize\n",
        "x = sympy.Symbol('x')\n",
        "\n",
        "g = lambda x: np.cos(x)\n",
        "\n",
        "res1 = minimize(g, [0], method=\"Nelder-Mead\")\n",
        "res2 = minimize(g, [1], method=\"Nelder-Mead\")\n",
        "\n",
        "\n",
        "print(\"%.2f\" % res1.x)\n",
        "\n"
      ],
      "metadata": {
        "colab": {
          "base_uri": "https://localhost:8080/"
        },
        "id": "lESjKEpXb1mv",
        "outputId": "71866912-9d47-4c92-af03-acd7b7819020"
      },
      "execution_count": 28,
      "outputs": [
        {
          "output_type": "stream",
          "name": "stdout",
          "text": [
            "3.14\n"
          ]
        },
        {
          "output_type": "stream",
          "name": "stderr",
          "text": [
            "<ipython-input-28-f39b0d3c19a7>:14: DeprecationWarning: Conversion of an array with ndim > 0 to a scalar is deprecated, and will error in future. Ensure you extract a single element from your array before performing this operation. (Deprecated NumPy 1.25.)\n",
            "  print(\"%.2f\" % res1.x)  # if you want to print the x-value where the minimum occurs\n"
          ]
        }
      ]
    },
    {
      "cell_type": "code",
      "source": [
        "import numpy as np\n",
        "from scipy.optimize import minimize\n",
        "\n",
        "\n",
        "def function_to_minimize(x):\n",
        "    return x**2\n",
        "\n",
        "def gradient(x):\n",
        "    return 2*x\n",
        "\n",
        "initial_guess = [0.5]\n",
        "\n",
        "\n",
        "result = minimize(function_to_minimize, initial_guess, method='BFGS', jac=gradient)\n",
        "\n",
        "\n",
        "print(\"The minimum value of the function is at x =\", result.x)\n"
      ],
      "metadata": {
        "colab": {
          "base_uri": "https://localhost:8080/"
        },
        "id": "IHzyWzd4oc9x",
        "outputId": "86203af3-1305-4198-cd1e-287d5a2adddb"
      },
      "execution_count": 31,
      "outputs": [
        {
          "output_type": "stream",
          "name": "stdout",
          "text": [
            "The minimum value of the function is at x = [6.77626358e-21]\n"
          ]
        }
      ]
    }
  ]
}